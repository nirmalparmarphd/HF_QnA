{
 "cells": [
  {
   "cell_type": "code",
   "execution_count": 7,
   "metadata": {},
   "outputs": [],
   "source": [
    "import os\n",
    "from dotenv import load_dotenv\n",
    "from langchain_ollama import OllamaEmbeddings\n",
    "from langchain_community.document_loaders import PyPDFLoader\n",
    "from langchain_text_splitters import RecursiveCharacterTextSplitter\n",
    "from langchain_core.prompts import PromptTemplate\n",
    "from langchain_chroma import Chroma\n",
    "from langchain_core.documents import Document\n",
    "from langchain_text_splitters import RecursiveCharacterTextSplitter\n",
    "from langgraph.graph import START, StateGraph\n",
    "from typing_extensions import List, TypedDict\n",
    "from langchain_ollama.llms import OllamaLLM\n",
    "\n",
    "load_dotenv()\n",
    "\n",
    "# langsmith setup\n",
    "os.environ['LANGSMITH_TRACING']=os.getenv('LANGSMITH_TRACING')\n",
    "os.environ['LANGSMITH_API_KEY']=os.getenv('LANGSMITH_API_KEY')\n",
    "os.environ['LANGSMITH_ENDPOINT']=os.getenv('LANGSMITH_ENDPOINT')\n",
    "os.environ['LANGSMITH_PROJECT']=os.getenv('LANGSMITH_PROJECT')"
   ]
  },
  {
   "cell_type": "code",
   "execution_count": 8,
   "metadata": {},
   "outputs": [],
   "source": [
    "# llm model\n",
    "# Initialize the Ollama LLM with the desired model\n",
    "llm = OllamaLLM(model=\"llama3.2\")"
   ]
  },
  {
   "cell_type": "code",
   "execution_count": 3,
   "metadata": {},
   "outputs": [],
   "source": [
    "# embedding model\n",
    "embeddings = OllamaEmbeddings(\n",
    "    model=\"llama3.2\",\n",
    ")\n",
    "\n",
    "# pdf files path\n",
    "file_path = \"../data/main.pdf\"\n",
    "\n",
    "pdf_loader = PyPDFLoader(file_path=file_path)\n",
    "\n",
    "docs = pdf_loader.load()\n",
    "\n",
    "# print(f\"{docs[0].page_content[:500]}\\n\")\n",
    "\n",
    "# setting up text splitter\n",
    "text_splitter = RecursiveCharacterTextSplitter(\n",
    "    chunk_size=1000,\n",
    "    chunk_overlap=200,\n",
    "    add_start_index=True\n",
    ")\n",
    "\n",
    "# splitting all pages from entire document\n",
    "all_splits = text_splitter.split_documents(docs)\n",
    "\n",
    "# setting up vector store\n",
    "vector_store = Chroma(embedding_function=embeddings, \n",
    "                      collection_name='chroma_db',\n",
    "                      persist_directory='../data/chroma_db')\n",
    "# ids = vector_store.add_documents(documents=all_splits)\n",
    "ids = vector_store.add_documents(documents=all_splits)"
   ]
  },
  {
   "cell_type": "code",
   "execution_count": 25,
   "metadata": {},
   "outputs": [],
   "source": [
    "template = \"\"\"You are an expert for the scientific paper writing and question answering from the content of scientific papers given in context. Use the following pieces of context to answer the question at the end.\n",
    "If you don't know the answer, just say that you don't know, don't try to make up an answer.\n",
    "Use three sentences maximum and keep the answer as concise as possible.\n",
    "Always say \"thanks for asking!\" at the end of the answer.\n",
    "\n",
    "{context}\n",
    "\n",
    "Question: {question}\n",
    "\n",
    "Helpful Answer:\"\"\"\n",
    "\n",
    "custom_rag_prompt = PromptTemplate(template=template,\n",
    "                                   input_variables=['context', 'question'])"
   ]
  },
  {
   "cell_type": "code",
   "execution_count": 26,
   "metadata": {},
   "outputs": [],
   "source": [
    "from langchain.schema.runnable import RunnablePassthrough\n",
    "from langchain.schema.output_parser import StrOutputParser\n",
    "\n",
    "chain = (\n",
    "    {'context': vector_store.as_retriever(), 'question': RunnablePassthrough()}\n",
    "    | custom_rag_prompt\n",
    "    | llm\n",
    "    | StrOutputParser()\n",
    ")"
   ]
  },
  {
   "cell_type": "code",
   "execution_count": 29,
   "metadata": {},
   "outputs": [],
   "source": [
    "response = chain.invoke(\"Is it possible to write literature review in better way?\")"
   ]
  },
  {
   "cell_type": "code",
   "execution_count": 30,
   "metadata": {},
   "outputs": [
    {
     "name": "stdout",
     "output_type": "stream",
     "text": [
      "It appears that the provided documents are not a scientific paper but rather a source document with figures and tables. Without more context, I'm unable to provide guidance on writing a literature review. The content seems to be a general introduction or an outline of the document, without specific information on research findings or conclusions.\n",
      "\n",
      "Don't know.\n",
      "\n",
      "Thanks for asking!\n"
     ]
    }
   ],
   "source": [
    "print(response)"
   ]
  },
  {
   "cell_type": "code",
   "execution_count": null,
   "metadata": {},
   "outputs": [],
   "source": [
    "# # define state for app\n",
    "# class State(TypedDict):\n",
    "#     question: str\n",
    "#     context: List[Document]\n",
    "#     answer: str\n",
    "\n",
    "# # define app steps\n",
    "# def retrieve(state: State):\n",
    "#     retrieved_docs = vector_store.similarity_search(state[\"question\"])\n",
    "#     return {\"context\": retrieved_docs}\n",
    "\n",
    "# def generate(state: State):\n",
    "#     docs_content = \"\\n\\n\".join(doc.page_content for doc in state[\"context\"])\n",
    "#     messages = custom_rag_prompt.invoke({\"question\": state[\"question\"], \"context\": docs_content})\n",
    "#     response = llm.invoke(messages)\n",
    "#     return {\"answer\": response.content}"
   ]
  },
  {
   "cell_type": "code",
   "execution_count": null,
   "metadata": {},
   "outputs": [],
   "source": [
    "# # Compile application and test\n",
    "# graph_builder = StateGraph(State).add_sequence([retrieve, generate])\n",
    "# graph_builder.add_edge(START, \"retrieve\")\n",
    "# graph = graph_builder.compile()"
   ]
  },
  {
   "cell_type": "code",
   "execution_count": null,
   "metadata": {},
   "outputs": [
    {
     "data": {
      "image/png": "[encoded data removed]",
      "text/plain": [
       "<IPython.core.display.Image object>"
      ]
     },
     "metadata": {},
     "output_type": "display_data"
    }
   ],
   "source": [
    "# from IPython.display import Image, display\n",
    "\n",
    "# display(Image(graph.get_graph().draw_mermaid_png()))"
   ]
  },
  {
   "cell_type": "code",
   "execution_count": null,
   "metadata": {},
   "outputs": [],
   "source": []
  }
 ],
 "metadata": {
  "kernelspec": {
   "display_name": ".venv",
   "language": "python",
   "name": "python3"
  },
  "language_info": {
   "codemirror_mode": {
    "name": "ipython",
    "version": 3
   },
   "file_extension": ".py",
   "mimetype": "text/x-python",
   "name": "python",
   "nbconvert_exporter": "python",
   "pygments_lexer": "ipython3",
   "version": "3.11.2"
  }
 },
 "nbformat": 4,
 "nbformat_minor": 2
}
