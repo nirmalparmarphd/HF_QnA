{
 "cells": [
  {
   "cell_type": "code",
   "execution_count": 1,
   "metadata": {},
   "outputs": [],
   "source": [
    "from langchain_ollama import OllamaEmbeddings\n",
    "from langchain_community.document_loaders import PyPDFLoader\n",
    "from langchain_text_splitters import RecursiveCharacterTextSplitter\n",
    "from langchain_chroma import Chroma"
   ]
  },
  {
   "cell_type": "code",
   "execution_count": 2,
   "metadata": {},
   "outputs": [],
   "source": [
    "# embedding model\n",
    "embeddings = OllamaEmbeddings(\n",
    "    model=\"llama3.2\",\n",
    ")\n",
    "\n",
    "# pdf files path\n",
    "file_path = \"../data/main.pdf\"\n",
    "\n",
    "pdf_loader = PyPDFLoader(file_path=file_path)\n",
    "\n",
    "docs = pdf_loader.load()\n",
    "\n",
    "# print(f\"{docs[0].page_content[:500]}\\n\")\n",
    "\n",
    "# setting up text splitter\n",
    "text_splitter = RecursiveCharacterTextSplitter(\n",
    "    chunk_size=1000,\n",
    "    chunk_overlap=200,\n",
    "    add_start_index=True\n",
    ")\n",
    "\n",
    "# splitting all pages from entire document\n",
    "all_splits = text_splitter.split_documents(docs)\n",
    "\n",
    "# setting up vector store\n",
    "vector_store = Chroma(embedding_function=embeddings, \n",
    "                      collection_name='chroma_db',\n",
    "                      persist_directory='../data/chroma_db')\n",
    "# ids = vector_store.add_documents(documents=all_splits)\n",
    "ids = vector_store.add_documents(documents=all_splits)"
   ]
  },
  {
   "cell_type": "code",
   "execution_count": 9,
   "metadata": {},
   "outputs": [
    {
     "name": "stdout",
     "output_type": "stream",
     "text": [
      "Score: 0.783714234828949\n",
      "\n",
      "page_content='2.4 Machine learning prediction for CLPHP\n",
      "The area of machine learning is a fast-developing discipline enabled based on data optimization\n",
      "[15]. The decision-tree-based foundation of the random forest technique involves dividing the data\n",
      "into several branches based on distinct subsets of the data. Several decision trees are built using\n",
      "the random forest method, and the characteristics are also randomly chosen [1]. This method\n",
      "is unique in that it identifies and ranks the data-sets most pertinent features in relation to the\n",
      "categorical replies. This can be helpful as an addition to the research on how individual features\n",
      "affect output response. The primary drawback of this technique is the lengthy computing time\n",
      "needed for implementation, which goes up as there are more trees to construct [22].\n",
      "3 Results and Discussion\n",
      "3.1 Analysis of a PHP at constant heat input with different filling ratios\n",
      "After the performing the four sets of experiments, the series of experiments data were analysed' metadata={'author': '', 'creationdate': '2023-10-21T13:58:37+02:00', 'creator': 'LaTeX with hyperref', 'keywords': '', 'moddate': '2023-10-21T13:58:37+02:00', 'page': 4, 'page_label': '5', 'producer': 'pdfTeX-1.40.25', 'ptex.fullbanner': 'This is pdfTeX, Version 3.141592653-2.6-1.40.25 (TeX Live 2023) kpathsea version 6.3.5', 'source': '../data/main.pdf', 'start_index': 0, 'subject': '', 'title': '', 'total_pages': 17, 'trapped': '/False'}\n"
     ]
    }
   ],
   "source": [
    "# Note that providers implement different scores; the score here\n",
    "# is a distance metric that varies inversely with similarity.\n",
    "\n",
    "results = vector_store.similarity_search_with_score(\"PHP with different filling ratio\")\n",
    "doc, score = results[0]\n",
    "print(f\"Score: {score}\\n\")\n",
    "print(doc)"
   ]
  },
  {
   "cell_type": "code",
   "execution_count": 10,
   "metadata": {},
   "outputs": [
    {
     "name": "stdout",
     "output_type": "stream",
     "text": [
      "page_content='2.4 Machine learning prediction for CLPHP\n",
      "The area of machine learning is a fast-developing discipline enabled based on data optimization\n",
      "[15]. The decision-tree-based foundation of the random forest technique involves dividing the data\n",
      "into several branches based on distinct subsets of the data. Several decision trees are built using\n",
      "the random forest method, and the characteristics are also randomly chosen [1]. This method\n",
      "is unique in that it identifies and ranks the data-sets most pertinent features in relation to the\n",
      "categorical replies. This can be helpful as an addition to the research on how individual features\n",
      "affect output response. The primary drawback of this technique is the lengthy computing time\n",
      "needed for implementation, which goes up as there are more trees to construct [22].\n",
      "3 Results and Discussion\n",
      "3.1 Analysis of a PHP at constant heat input with different filling ratios\n",
      "After the performing the four sets of experiments, the series of experiments data were analysed' metadata={'author': '', 'creationdate': '2023-10-21T13:58:37+02:00', 'creator': 'LaTeX with hyperref', 'keywords': '', 'moddate': '2023-10-21T13:58:37+02:00', 'page': 4, 'page_label': '5', 'producer': 'pdfTeX-1.40.25', 'ptex.fullbanner': 'This is pdfTeX, Version 3.141592653-2.6-1.40.25 (TeX Live 2023) kpathsea version 6.3.5', 'source': '../data/main.pdf', 'start_index': 0, 'subject': '', 'title': '', 'total_pages': 17, 'trapped': '/False'}\n"
     ]
    }
   ],
   "source": [
    "embedding = embeddings.embed_query(\"PHP with different filling ratio\")\n",
    "\n",
    "results = vector_store.similarity_search_by_vector(embedding)\n",
    "print(results[0])"
   ]
  },
  {
   "cell_type": "code",
   "execution_count": 23,
   "metadata": {},
   "outputs": [
    {
     "data": {
      "text/plain": [
       "[Document(id='a9368920-5905-45e9-a5a7-37a23dbf8f5c', metadata={'author': '', 'creationdate': '2023-10-21T13:58:37+02:00', 'creator': 'LaTeX with hyperref', 'keywords': '', 'moddate': '2023-10-21T13:58:37+02:00', 'page': 1, 'page_label': '2', 'producer': 'pdfTeX-1.40.25', 'ptex.fullbanner': 'This is pdfTeX, Version 3.141592653-2.6-1.40.25 (TeX Live 2023) kpathsea version 6.3.5', 'source': '../data/main.pdf', 'start_index': 0, 'subject': '', 'title': '', 'total_pages': 17, 'trapped': '/False'}, page_content='Figure 1: Schematic of the PHPs\\nAs per the literature review of PHPs, the use of various convectional fluids as working fluids are\\nnot new to enhance the thermal performance of PHPs as shown in Table 1. Water and ethanol are\\nwidely used as conventional fluids to increase heat transfer capability of PHP as shown as Table 1.\\nIn addition to this, the use of various nanofluids as working fluids are also not newer to increase\\nthe thermal performance of PHPs as shown in Table 2.\\nThe working parameters of the PHPs are categorized into three groups to determine heat trans-\\nfer capability [7]: (a) Geometric working parameters (b) Physical properties of working fluids and\\n(c) Operational parameters. In majority of literature, the thermal performance of PHPs reported\\nby considering a thermal resistance, temperature difference between evaporator and condenser, heat\\ninputs and filling ratios for conventional fluids and nanofluids as thermal performance parameters\\nwhich is shown in Table 1 and 2.')]"
      ]
     },
     "execution_count": 23,
     "metadata": {},
     "output_type": "execute_result"
    }
   ],
   "source": [
    "# making retriever\n",
    "from typing import List\n",
    "from langchain_core.documents import Document\n",
    "from langchain_core.runnables import chain\n",
    "\n",
    "@chain\n",
    "def retriever(query: str) -> List[Document]:\n",
    "    return vector_store.similarity_search(query=query, k=1)\n",
    "\n",
    "retriever.invoke(\"What is PHP?\")"
   ]
  },
  {
   "cell_type": "code",
   "execution_count": null,
   "metadata": {},
   "outputs": [],
   "source": []
  }
 ],
 "metadata": {
  "kernelspec": {
   "display_name": ".venv",
   "language": "python",
   "name": "python3"
  },
  "language_info": {
   "codemirror_mode": {
    "name": "ipython",
    "version": 3
   },
   "file_extension": ".py",
   "mimetype": "text/x-python",
   "name": "python",
   "nbconvert_exporter": "python",
   "pygments_lexer": "ipython3",
   "version": "3.11.2"
  }
 },
 "nbformat": 4,
 "nbformat_minor": 2
}
